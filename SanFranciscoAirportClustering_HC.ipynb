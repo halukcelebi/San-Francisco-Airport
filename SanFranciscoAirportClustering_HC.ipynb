{
 "cells": [
  {
   "cell_type": "code",
   "execution_count": 1,
   "id": "318e8a1e",
   "metadata": {},
   "outputs": [],
   "source": [
    "# HW: San Francisco Airport Clustering"
   ]
  },
  {
   "cell_type": "code",
   "execution_count": 27,
   "id": "52bd93a5",
   "metadata": {},
   "outputs": [],
   "source": [
    "#!pip install yellowbrick\n",
    "from sklearn import datasets\n",
    "from sklearn.cluster import KMeans\n",
    "from yellowbrick.cluster import KElbowVisualizer"
   ]
  },
  {
   "cell_type": "code",
   "execution_count": 28,
   "id": "e6b2c305",
   "metadata": {},
   "outputs": [],
   "source": [
    "import pandas as pd\n",
    "import numpy as np"
   ]
  },
  {
   "cell_type": "code",
   "execution_count": 30,
   "id": "b58a3671",
   "metadata": {},
   "outputs": [],
   "source": [
    "df = pd.read_csv('air-traffic-passenger-statistics.csv')"
   ]
  },
  {
   "cell_type": "code",
   "execution_count": 31,
   "id": "9dad7ac1",
   "metadata": {},
   "outputs": [
    {
     "data": {
      "text/html": [
       "<div>\n",
       "<style scoped>\n",
       "    .dataframe tbody tr th:only-of-type {\n",
       "        vertical-align: middle;\n",
       "    }\n",
       "\n",
       "    .dataframe tbody tr th {\n",
       "        vertical-align: top;\n",
       "    }\n",
       "\n",
       "    .dataframe thead th {\n",
       "        text-align: right;\n",
       "    }\n",
       "</style>\n",
       "<table border=\"1\" class=\"dataframe\">\n",
       "  <thead>\n",
       "    <tr style=\"text-align: right;\">\n",
       "      <th></th>\n",
       "      <th>Activity Period</th>\n",
       "      <th>Operating Airline</th>\n",
       "      <th>Operating Airline IATA Code</th>\n",
       "      <th>Published Airline</th>\n",
       "      <th>Published Airline IATA Code</th>\n",
       "      <th>GEO Summary</th>\n",
       "      <th>GEO Region</th>\n",
       "      <th>Activity Type Code</th>\n",
       "      <th>Price Category Code</th>\n",
       "      <th>Terminal</th>\n",
       "      <th>Boarding Area</th>\n",
       "      <th>Passenger Count</th>\n",
       "    </tr>\n",
       "  </thead>\n",
       "  <tbody>\n",
       "    <tr>\n",
       "      <th>7358</th>\n",
       "      <td>201010</td>\n",
       "      <td>Alaska Airlines</td>\n",
       "      <td>AS</td>\n",
       "      <td>Alaska Airlines</td>\n",
       "      <td>AS</td>\n",
       "      <td>International</td>\n",
       "      <td>Mexico</td>\n",
       "      <td>Deplaned</td>\n",
       "      <td>Other</td>\n",
       "      <td>International</td>\n",
       "      <td>A</td>\n",
       "      <td>8389</td>\n",
       "    </tr>\n",
       "    <tr>\n",
       "      <th>6452</th>\n",
       "      <td>201002</td>\n",
       "      <td>Hawaiian Airlines</td>\n",
       "      <td>HA</td>\n",
       "      <td>Hawaiian Airlines</td>\n",
       "      <td>HA</td>\n",
       "      <td>Domestic</td>\n",
       "      <td>US</td>\n",
       "      <td>Deplaned</td>\n",
       "      <td>Other</td>\n",
       "      <td>Terminal 1</td>\n",
       "      <td>C</td>\n",
       "      <td>6001</td>\n",
       "    </tr>\n",
       "    <tr>\n",
       "      <th>10383</th>\n",
       "      <td>201212</td>\n",
       "      <td>Hawaiian Airlines</td>\n",
       "      <td>HA</td>\n",
       "      <td>Hawaiian Airlines</td>\n",
       "      <td>HA</td>\n",
       "      <td>Domestic</td>\n",
       "      <td>US</td>\n",
       "      <td>Deplaned</td>\n",
       "      <td>Other</td>\n",
       "      <td>International</td>\n",
       "      <td>A</td>\n",
       "      <td>8002</td>\n",
       "    </tr>\n",
       "    <tr>\n",
       "      <th>13608</th>\n",
       "      <td>201504</td>\n",
       "      <td>SkyWest Airlines</td>\n",
       "      <td>OO</td>\n",
       "      <td>United Airlines</td>\n",
       "      <td>UA</td>\n",
       "      <td>International</td>\n",
       "      <td>Canada</td>\n",
       "      <td>Deplaned</td>\n",
       "      <td>Other</td>\n",
       "      <td>Terminal 3</td>\n",
       "      <td>F</td>\n",
       "      <td>11070</td>\n",
       "    </tr>\n",
       "    <tr>\n",
       "      <th>16044</th>\n",
       "      <td>201611</td>\n",
       "      <td>Southwest Airlines</td>\n",
       "      <td>WN</td>\n",
       "      <td>Southwest Airlines</td>\n",
       "      <td>WN</td>\n",
       "      <td>Domestic</td>\n",
       "      <td>US</td>\n",
       "      <td>Deplaned</td>\n",
       "      <td>Low Fare</td>\n",
       "      <td>Terminal 1</td>\n",
       "      <td>B</td>\n",
       "      <td>160193</td>\n",
       "    </tr>\n",
       "    <tr>\n",
       "      <th>...</th>\n",
       "      <td>...</td>\n",
       "      <td>...</td>\n",
       "      <td>...</td>\n",
       "      <td>...</td>\n",
       "      <td>...</td>\n",
       "      <td>...</td>\n",
       "      <td>...</td>\n",
       "      <td>...</td>\n",
       "      <td>...</td>\n",
       "      <td>...</td>\n",
       "      <td>...</td>\n",
       "      <td>...</td>\n",
       "    </tr>\n",
       "    <tr>\n",
       "      <th>4539</th>\n",
       "      <td>200809</td>\n",
       "      <td>United Airlines - Pre 07/01/2013</td>\n",
       "      <td>UA</td>\n",
       "      <td>United Airlines - Pre 07/01/2013</td>\n",
       "      <td>UA</td>\n",
       "      <td>Domestic</td>\n",
       "      <td>US</td>\n",
       "      <td>Enplaned</td>\n",
       "      <td>Low Fare</td>\n",
       "      <td>Terminal 3</td>\n",
       "      <td>F</td>\n",
       "      <td>38666</td>\n",
       "    </tr>\n",
       "    <tr>\n",
       "      <th>14800</th>\n",
       "      <td>201602</td>\n",
       "      <td>Compass Airlines</td>\n",
       "      <td>CP</td>\n",
       "      <td>American Airlines</td>\n",
       "      <td>AA</td>\n",
       "      <td>Domestic</td>\n",
       "      <td>US</td>\n",
       "      <td>Deplaned</td>\n",
       "      <td>Other</td>\n",
       "      <td>Terminal 2</td>\n",
       "      <td>D</td>\n",
       "      <td>9497</td>\n",
       "    </tr>\n",
       "    <tr>\n",
       "      <th>14640</th>\n",
       "      <td>201601</td>\n",
       "      <td>Air Canada</td>\n",
       "      <td>AC</td>\n",
       "      <td>Air Canada</td>\n",
       "      <td>AC</td>\n",
       "      <td>International</td>\n",
       "      <td>Canada</td>\n",
       "      <td>Deplaned</td>\n",
       "      <td>Other</td>\n",
       "      <td>International</td>\n",
       "      <td>G</td>\n",
       "      <td>26814</td>\n",
       "    </tr>\n",
       "    <tr>\n",
       "      <th>16293</th>\n",
       "      <td>201701</td>\n",
       "      <td>KLM Royal Dutch Airlines</td>\n",
       "      <td>KL</td>\n",
       "      <td>KLM Royal Dutch Airlines</td>\n",
       "      <td>KL</td>\n",
       "      <td>International</td>\n",
       "      <td>Europe</td>\n",
       "      <td>Deplaned</td>\n",
       "      <td>Other</td>\n",
       "      <td>International</td>\n",
       "      <td>A</td>\n",
       "      <td>8673</td>\n",
       "    </tr>\n",
       "    <tr>\n",
       "      <th>6151</th>\n",
       "      <td>200911</td>\n",
       "      <td>Sun Country Airlines</td>\n",
       "      <td>SY</td>\n",
       "      <td>Sun Country Airlines</td>\n",
       "      <td>SY</td>\n",
       "      <td>Domestic</td>\n",
       "      <td>US</td>\n",
       "      <td>Enplaned</td>\n",
       "      <td>Low Fare</td>\n",
       "      <td>Terminal 1</td>\n",
       "      <td>B</td>\n",
       "      <td>857</td>\n",
       "    </tr>\n",
       "  </tbody>\n",
       "</table>\n",
       "<p>100 rows × 12 columns</p>\n",
       "</div>"
      ],
      "text/plain": [
       "       Activity Period                 Operating Airline  \\\n",
       "7358            201010                   Alaska Airlines   \n",
       "6452            201002                 Hawaiian Airlines   \n",
       "10383           201212                 Hawaiian Airlines   \n",
       "13608           201504                  SkyWest Airlines   \n",
       "16044           201611                Southwest Airlines   \n",
       "...                ...                               ...   \n",
       "4539            200809  United Airlines - Pre 07/01/2013   \n",
       "14800           201602                  Compass Airlines   \n",
       "14640           201601                        Air Canada   \n",
       "16293           201701          KLM Royal Dutch Airlines   \n",
       "6151            200911              Sun Country Airlines   \n",
       "\n",
       "      Operating Airline IATA Code                 Published Airline  \\\n",
       "7358                           AS                   Alaska Airlines   \n",
       "6452                           HA                 Hawaiian Airlines   \n",
       "10383                          HA                 Hawaiian Airlines   \n",
       "13608                          OO                   United Airlines   \n",
       "16044                          WN                Southwest Airlines   \n",
       "...                           ...                               ...   \n",
       "4539                           UA  United Airlines - Pre 07/01/2013   \n",
       "14800                          CP                 American Airlines   \n",
       "14640                          AC                        Air Canada   \n",
       "16293                          KL          KLM Royal Dutch Airlines   \n",
       "6151                           SY              Sun Country Airlines   \n",
       "\n",
       "      Published Airline IATA Code    GEO Summary GEO Region  \\\n",
       "7358                           AS  International     Mexico   \n",
       "6452                           HA       Domestic         US   \n",
       "10383                          HA       Domestic         US   \n",
       "13608                          UA  International     Canada   \n",
       "16044                          WN       Domestic         US   \n",
       "...                           ...            ...        ...   \n",
       "4539                           UA       Domestic         US   \n",
       "14800                          AA       Domestic         US   \n",
       "14640                          AC  International     Canada   \n",
       "16293                          KL  International     Europe   \n",
       "6151                           SY       Domestic         US   \n",
       "\n",
       "      Activity Type Code Price Category Code       Terminal Boarding Area  \\\n",
       "7358            Deplaned               Other  International             A   \n",
       "6452            Deplaned               Other     Terminal 1             C   \n",
       "10383           Deplaned               Other  International             A   \n",
       "13608           Deplaned               Other     Terminal 3             F   \n",
       "16044           Deplaned            Low Fare     Terminal 1             B   \n",
       "...                  ...                 ...            ...           ...   \n",
       "4539            Enplaned            Low Fare     Terminal 3             F   \n",
       "14800           Deplaned               Other     Terminal 2             D   \n",
       "14640           Deplaned               Other  International             G   \n",
       "16293           Deplaned               Other  International             A   \n",
       "6151            Enplaned            Low Fare     Terminal 1             B   \n",
       "\n",
       "       Passenger Count  \n",
       "7358              8389  \n",
       "6452              6001  \n",
       "10383             8002  \n",
       "13608            11070  \n",
       "16044           160193  \n",
       "...                ...  \n",
       "4539             38666  \n",
       "14800             9497  \n",
       "14640            26814  \n",
       "16293             8673  \n",
       "6151               857  \n",
       "\n",
       "[100 rows x 12 columns]"
      ]
     },
     "execution_count": 31,
     "metadata": {},
     "output_type": "execute_result"
    }
   ],
   "source": [
    "df.sample(100)"
   ]
  },
  {
   "cell_type": "code",
   "execution_count": 32,
   "id": "e313aca8",
   "metadata": {},
   "outputs": [
    {
     "data": {
      "text/plain": [
       "Index(['Activity Period', 'Operating Airline', 'Operating Airline IATA Code',\n",
       "       'Published Airline', 'Published Airline IATA Code', 'GEO Summary',\n",
       "       'GEO Region', 'Activity Type Code', 'Price Category Code', 'Terminal',\n",
       "       'Boarding Area', 'Passenger Count'],\n",
       "      dtype='object')"
      ]
     },
     "execution_count": 32,
     "metadata": {},
     "output_type": "execute_result"
    }
   ],
   "source": [
    "df.columns"
   ]
  },
  {
   "cell_type": "code",
   "execution_count": 33,
   "id": "945d5bcc",
   "metadata": {},
   "outputs": [],
   "source": [
    "#missing_col = 'Operating Airline IATA Code'\n",
    "\n",
    "#test_indices = df[df[missing_col].isnull()].index\n",
    "#df_empty_rows = df.loc[test_indices]\n",
    "#df_empty_rows"
   ]
  },
  {
   "cell_type": "code",
   "execution_count": null,
   "id": "3a1736a4",
   "metadata": {},
   "outputs": [],
   "source": [
    "# fill in empty rows appropriately"
   ]
  },
  {
   "cell_type": "code",
   "execution_count": 34,
   "id": "b1fb4e44",
   "metadata": {},
   "outputs": [],
   "source": [
    "# filling empty columns\n",
    "# Servisair\n",
    "df['Operating Airline IATA Code'] = np.where((df['Operating Airline'] == 'Servisair') & (df['Operating Airline IATA Code'].isnull() ) ,\n",
    "                                             'SA', df['Operating Airline IATA Code'] ) \n",
    "\n",
    "df['Published Airline IATA Code'] = np.where((df['Operating Airline'] == 'Servisair') & (df['Published Airline IATA Code'].isnull() ) ,\n",
    "                                             'SA', df['Published Airline IATA Code'] ) \n",
    "\n",
    "#Swissport USA\n",
    "df['Operating Airline IATA Code'] = np.where((df['Operating Airline'] == 'Swissport USA') & (df['Operating Airline IATA Code'].isnull() ) ,\n",
    "                                             'SU', df['Operating Airline IATA Code'] ) \n",
    "\n",
    "df['Published Airline IATA Code'] = np.where((df['Operating Airline'] == 'Swissport USA') & (df['Published Airline IATA Code'].isnull() ) ,\n",
    "                                             'SU', df['Published Airline IATA Code'] ) \n",
    "\n",
    "#Boeing Company\n",
    "df['Operating Airline IATA Code'] = np.where((df['Operating Airline'] == 'Boeing Company') & (df['Operating Airline IATA Code'].isnull() ) ,\n",
    "                                             'BC', df['Operating Airline IATA Code'] ) \n",
    "\n",
    "df['Published Airline IATA Code'] = np.where((df['Operating Airline'] == 'Boeing Company') & (df['Published Airline IATA Code'].isnull() ) ,\n",
    "                                             'BC', df['Published Airline IATA Code'] ) \n",
    "\n",
    "#Pasific Aviation\n",
    "df['Operating Airline IATA Code'] = np.where((df['Operating Airline'] == 'Pacific Aviation') & (df['Operating Airline IATA Code'].isnull() ) ,\n",
    "                                             'PAV', df['Operating Airline IATA Code'] ) \n",
    "\n",
    "df['Published Airline IATA Code'] = np.where((df['Operating Airline'] == 'Pacific Aviation') & (df['Published Airline IATA Code'].isnull() ) ,\n",
    "                                             'PAV', df['Published Airline IATA Code'] ) \n",
    "\n",
    "\n",
    "#Pasific Aviation\n",
    "df['Operating Airline IATA Code'] = np.where((df['Operating Airline'] == 'Trego Dugan Aviation') & (df['Operating Airline IATA Code'].isnull() ) ,\n",
    "                                             'TDA', df['Operating Airline IATA Code'] ) \n",
    "\n",
    "df['Published Airline IATA Code'] = np.where((df['Operating Airline'] == 'Trego Dugan Aviation') & (df['Published Airline IATA Code'].isnull() ) ,\n",
    "                                             'TDA', df['Published Airline IATA Code'] ) "
   ]
  },
  {
   "cell_type": "code",
   "execution_count": 35,
   "id": "8c5e2627",
   "metadata": {},
   "outputs": [],
   "source": [
    "df = df [ ['Activity Period' , 'GEO Summary', 'GEO Region', 'Activity Type Code', 'Price Category Code', 'Terminal',\n",
    "       'Boarding Area', 'Passenger Count'] ]"
   ]
  },
  {
   "cell_type": "code",
   "execution_count": 36,
   "id": "f80a5526",
   "metadata": {},
   "outputs": [],
   "source": [
    "#tekar eden  sutunlari silmek icin\n",
    "#df = df.loc[:,~df.apply(lambda x: x.duplicated(), axis=1).all()].copy()    "
   ]
  },
  {
   "cell_type": "code",
   "execution_count": 37,
   "id": "a0821c5b",
   "metadata": {},
   "outputs": [],
   "source": [
    "#dummy_df = pd.get_dummies(df[\"Terminal\"], prefix=\"Terminal\", drop_first=True)\n",
    "#df = pd.concat([df, dummy_df], axis=1)\n",
    "#df = df.drop('Terminal', axis=1)"
   ]
  },
  {
   "cell_type": "code",
   "execution_count": 38,
   "id": "5e7c581f",
   "metadata": {},
   "outputs": [],
   "source": [
    "#df['Boarding Area'].unique()"
   ]
  },
  {
   "cell_type": "code",
   "execution_count": 39,
   "id": "42199258",
   "metadata": {},
   "outputs": [],
   "source": [
    "#dummy_df = pd.get_dummies(df[\"Boarding Area\"], prefix=\"Boarding Area\", drop_first=True)\n",
    "#df = pd.concat([df, dummy_df], axis=1)\n",
    "#df = df.drop('Boarding Area', axis=1)"
   ]
  },
  {
   "cell_type": "code",
   "execution_count": 40,
   "id": "9f79eb89",
   "metadata": {},
   "outputs": [],
   "source": [
    "#len(df.columns)"
   ]
  },
  {
   "cell_type": "code",
   "execution_count": 41,
   "id": "18dbae70",
   "metadata": {},
   "outputs": [],
   "source": [
    "df['Activity Period'] = df['Activity Period'].astype('category')\n",
    "dummy_df = pd.get_dummies(df['Activity Period'], prefix='Activity Period', drop_first=True)\n",
    "df = pd.concat([df, dummy_df], axis=1)\n",
    "df = df.drop('Activity Period', axis=1)\n"
   ]
  },
  {
   "cell_type": "code",
   "execution_count": 42,
   "id": "74d92346",
   "metadata": {},
   "outputs": [],
   "source": [
    "dummy_df = pd.get_dummies(df['GEO Summary'], prefix='GEO Summary', drop_first=True)\n",
    "df = pd.concat([df, dummy_df], axis=1)\n",
    "df = df.drop('GEO Summary', axis=1)"
   ]
  },
  {
   "cell_type": "code",
   "execution_count": 43,
   "id": "45f4562b",
   "metadata": {},
   "outputs": [],
   "source": [
    "\n",
    "dummy_df = pd.get_dummies(df['GEO Region'], prefix='GEO Region', drop_first=True)\n",
    "df = pd.concat([df, dummy_df], axis=1)\n",
    "df = df.drop('GEO Region', axis=1)\n",
    "\n"
   ]
  },
  {
   "cell_type": "code",
   "execution_count": 44,
   "id": "3e3e5b68",
   "metadata": {},
   "outputs": [],
   "source": [
    "dummy_df = pd.get_dummies(df['Activity Type Code'], prefix='Activity Type Code', drop_first=True)\n",
    "df = pd.concat([df, dummy_df], axis=1)\n",
    "df = df.drop('Activity Type Code', axis=1)\n",
    "\n"
   ]
  },
  {
   "cell_type": "code",
   "execution_count": 45,
   "id": "e1f9db76",
   "metadata": {},
   "outputs": [],
   "source": [
    "dummy_df = pd.get_dummies(df['Price Category Code'], prefix='Price Category Code', drop_first=True)\n",
    "df = pd.concat([df, dummy_df], axis=1)\n",
    "df = df.drop('Price Category Code', axis=1)\n",
    "\n"
   ]
  },
  {
   "cell_type": "code",
   "execution_count": 46,
   "id": "32b3b49c",
   "metadata": {},
   "outputs": [],
   "source": [
    "dummy_df = pd.get_dummies(df['Terminal'], prefix='Terminal', drop_first=True)\n",
    "df = pd.concat([df, dummy_df], axis=1)\n",
    "df = df.drop('Terminal', axis=1)\n",
    "\n"
   ]
  },
  {
   "cell_type": "code",
   "execution_count": 47,
   "id": "70b08bf9",
   "metadata": {},
   "outputs": [],
   "source": [
    "dummy_df = pd.get_dummies(df['Boarding Area'], prefix='Boarding Area', drop_first=True)\n",
    "df = pd.concat([df, dummy_df], axis=1)\n",
    "df = df.drop('Boarding Area', axis=1)"
   ]
  },
  {
   "cell_type": "code",
   "execution_count": 53,
   "id": "2ba91c61",
   "metadata": {},
   "outputs": [],
   "source": [
    "x = df"
   ]
  },
  {
   "cell_type": "code",
   "execution_count": 54,
   "id": "edd7cbd3",
   "metadata": {},
   "outputs": [],
   "source": [
    "from sklearn.cluster import KMeans\n",
    "from sklearn.metrics import silhouette_score\n",
    "\n",
    "import pandas as pd\n",
    "import matplotlib.pyplot as plt\n",
    "\n",
    "# pembe uyarilardan kurtulmak icin: \n",
    "import warnings\n",
    "warnings.filterwarnings(\"ignore\")"
   ]
  },
  {
   "cell_type": "code",
   "execution_count": 55,
   "id": "99f7e1e5",
   "metadata": {},
   "outputs": [],
   "source": [
    "allscore= []\n",
    "allclusters = []\n",
    "distances = []\n",
    "def clust(kactane):\n",
    "    for i in range(1,kactane):\n",
    "        i = i+1\n",
    "        model   = KMeans(i)\n",
    "        model   = model.fit(x)\n",
    "        tahmin  = model.predict(x)\n",
    "        score   = silhouette_score(x,tahmin)\n",
    "        distance = model.inertia_\n",
    "        print('cluster ',i,\" score: \", score)\n",
    "        allscore.append(score) \n",
    "        allclusters.append(i)\n",
    "        distances.append(distance)"
   ]
  },
  {
   "cell_type": "code",
   "execution_count": 56,
   "id": "b70bfc33",
   "metadata": {},
   "outputs": [
    {
     "name": "stdout",
     "output_type": "stream",
     "text": [
      "cluster  2  score:  0.8596461926322229\n",
      "cluster  3  score:  0.8285981286348262\n",
      "cluster  4  score:  0.7861526324266583\n",
      "cluster  5  score:  0.7846347971523007\n",
      "cluster  6  score:  0.6612251814181042\n",
      "cluster  7  score:  0.6618231475861434\n",
      "cluster  8  score:  0.649849088915298\n",
      "cluster  9  score:  0.6400088256570038\n",
      "cluster  10  score:  0.61278031325757\n"
     ]
    }
   ],
   "source": [
    "kactane = 10\n",
    "clust(kactane)"
   ]
  },
  {
   "cell_type": "code",
   "execution_count": 57,
   "id": "d51740ca",
   "metadata": {},
   "outputs": [
    {
     "data": {
      "text/plain": [
       "[<matplotlib.lines.Line2D at 0x195db995210>]"
      ]
     },
     "execution_count": 57,
     "metadata": {},
     "output_type": "execute_result"
    },
    {
     "data": {
      "image/png": "[encoded data removed]",
      "text/plain": [
       "<Figure size 800x550 with 1 Axes>"
      ]
     },
     "metadata": {},
     "output_type": "display_data"
    }
   ],
   "source": [
    "plt.plot(allclusters,distances)"
   ]
  },
  {
   "cell_type": "code",
   "execution_count": 59,
   "id": "8f0d389d",
   "metadata": {},
   "outputs": [
    {
     "data": {
      "image/png": "[encoded data removed]",
      "text/plain": [
       "<Figure size 800x550 with 2 Axes>"
      ]
     },
     "metadata": {},
     "output_type": "display_data"
    },
    {
     "data": {
      "text/plain": [
       "<Axes: title={'center': 'Distortion Score Elbow for KMeans Clustering'}, xlabel='k', ylabel='distortion score'>"
      ]
     },
     "execution_count": 59,
     "metadata": {},
     "output_type": "execute_result"
    }
   ],
   "source": [
    "# Instantiate the clustering model and visualizer\n",
    "km = KMeans(random_state=42)\n",
    "visualizer = KElbowVisualizer(km, k=(2,10))\n",
    "\n",
    "visualizer.fit(x) # Fit the data to the visualizer\n",
    "visualizer.show() # Finalize and render the figure"
   ]
  },
  {
   "cell_type": "code",
   "execution_count": null,
   "id": "42d5dbfc",
   "metadata": {},
   "outputs": [],
   "source": []
  }
 ],
 "metadata": {
  "kernelspec": {
   "display_name": "Python 3 (ipykernel)",
   "language": "python",
   "name": "python3"
  },
  "language_info": {
   "codemirror_mode": {
    "name": "ipython",
    "version": 3
   },
   "file_extension": ".py",
   "mimetype": "text/x-python",
   "name": "python",
   "nbconvert_exporter": "python",
   "pygments_lexer": "ipython3",
   "version": "3.10.9"
  }
 },
 "nbformat": 4,
 "nbformat_minor": 5
}
